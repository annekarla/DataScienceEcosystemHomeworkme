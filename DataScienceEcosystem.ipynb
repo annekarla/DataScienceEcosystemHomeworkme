{
  "nbformat": 4,
  "nbformat_minor": 0,
  "metadata": {
    "colab": {
      "provenance": []
    },
    "kernelspec": {
      "name": "python3",
      "display_name": "Python 3"
    },
    "language_info": {
      "name": "python"
    }
  },
  "cells": [
    {
      "cell_type": "markdown",
      "source": [
        "#Data Science Tools and Ecosystem"
      ],
      "metadata": {
        "id": "IdMpG6GLLsDa"
      }
    },
    {
      "cell_type": "markdown",
      "source": [
        "###In this notebook, Data Science Tools and Ecosystem are summarized"
      ],
      "metadata": {
        "id": "nodhApcXMGxk"
      }
    },
    {
      "cell_type": "markdown",
      "source": [
        "###Objectives\n",
        "- List popular languages used by Data Scientists\n",
        "- List commmonly used libraries by data scientists\n",
        "- List data science tools used by data scientists\n",
        "- Practice writing and executing codes for basic arithmetic"
      ],
      "metadata": {
        "id": "9NJH2wM2Q0vI"
      }
    },
    {
      "cell_type": "markdown",
      "source": [
        "###Some of the popular languages that Data Scientist use are:\n",
        "1. R\n",
        "2. Python\n",
        "3. Java\n",
        "4. SQL"
      ],
      "metadata": {
        "id": "SkKVNkxbMqm4"
      }
    },
    {
      "cell_type": "markdown",
      "source": [
        "###Some of the commonly used libraries used by data scientists include:\n",
        "1. Pandas\n",
        "2. Matplotlib\n",
        "3. Scikit-learning\n",
        "4. TensorFlow"
      ],
      "metadata": {
        "id": "LOWnPv0HNe9B"
      }
    },
    {
      "cell_type": "markdown",
      "source": [
        "|Data Science Tools|\n",
        "|------------------|\n",
        "|Jupyter|\n",
        "|R Studio|\n",
        "|Spyder|"
      ],
      "metadata": {
        "id": "5g8W8N1WOFOg"
      }
    },
    {
      "cell_type": "markdown",
      "source": [
        "###Below are a few examples of evaluating arithmetic expressions in python"
      ],
      "metadata": {
        "id": "I8GDpidnOt1m"
      }
    },
    {
      "cell_type": "code",
      "source": [
        "#This is a simple arithmetic expression to multiply then add integers.\n",
        "(3*4)+5"
      ],
      "metadata": {
        "colab": {
          "base_uri": "https://localhost:8080/"
        },
        "id": "R0jRV_8DPGPo",
        "outputId": "4480361f-3b0d-4f19-9af3-078cd693561a"
      },
      "execution_count": 1,
      "outputs": [
        {
          "output_type": "execute_result",
          "data": {
            "text/plain": [
              "17"
            ]
          },
          "metadata": {},
          "execution_count": 1
        }
      ]
    },
    {
      "cell_type": "code",
      "source": [
        "#This will convert 200 minutes to hours by dividing by 60\n",
        "minutes=200\n",
        "minutes/60\n"
      ],
      "metadata": {
        "colab": {
          "base_uri": "https://localhost:8080/"
        },
        "id": "fieWsG1YPdxl",
        "outputId": "cfdb475f-563a-4e6f-e476-2949ce347fc0"
      },
      "execution_count": 4,
      "outputs": [
        {
          "output_type": "execute_result",
          "data": {
            "text/plain": [
              "3.3333333333333335"
            ]
          },
          "metadata": {},
          "execution_count": 4
        }
      ]
    },
    {
      "cell_type": "markdown",
      "source": [
        "##Author\n",
        "Anne Karla M. Navarro"
      ],
      "metadata": {
        "id": "vlqsh1MBRqmt"
      }
    },
    {
      "cell_type": "code",
      "source": [],
      "metadata": {
        "id": "8in8xA0mSMYu"
      },
      "execution_count": null,
      "outputs": []
    }
  ]
}